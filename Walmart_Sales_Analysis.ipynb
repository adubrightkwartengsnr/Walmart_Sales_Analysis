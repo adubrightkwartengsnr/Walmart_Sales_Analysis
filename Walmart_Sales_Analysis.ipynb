{
 "cells": [
  {
   "cell_type": "code",
   "execution_count": 1,
   "id": "deede476-c78b-43d6-aae3-a9c46ae0bb77",
   "metadata": {
    "tags": []
   },
   "outputs": [],
   "source": [
    "# import necessary libraries\n",
    "import pandas as pd\n",
    "import numpy as np\n",
    "from matplotlib import pyplot as plt\n",
    "import seaborn as sns"
   ]
  },
  {
   "cell_type": "code",
   "execution_count": 2,
   "id": "4a3bc608-9e62-454a-afd3-0e37c360a489",
   "metadata": {
    "tags": []
   },
   "outputs": [
    {
     "data": {
      "text/html": [
       "<div>\n",
       "<style scoped>\n",
       "    .dataframe tbody tr th:only-of-type {\n",
       "        vertical-align: middle;\n",
       "    }\n",
       "\n",
       "    .dataframe tbody tr th {\n",
       "        vertical-align: top;\n",
       "    }\n",
       "\n",
       "    .dataframe thead th {\n",
       "        text-align: right;\n",
       "    }\n",
       "</style>\n",
       "<table border=\"1\" class=\"dataframe\">\n",
       "  <thead>\n",
       "    <tr style=\"text-align: right;\">\n",
       "      <th></th>\n",
       "      <th>Store</th>\n",
       "      <th>Date</th>\n",
       "      <th>Weekly_Sales</th>\n",
       "      <th>Holiday_Flag</th>\n",
       "      <th>Temperature</th>\n",
       "      <th>Fuel_Price</th>\n",
       "      <th>CPI</th>\n",
       "      <th>Unemployment</th>\n",
       "    </tr>\n",
       "  </thead>\n",
       "  <tbody>\n",
       "    <tr>\n",
       "      <th>0</th>\n",
       "      <td>1</td>\n",
       "      <td>2010-02-05</td>\n",
       "      <td>1643690.90</td>\n",
       "      <td>0</td>\n",
       "      <td>42.31</td>\n",
       "      <td>2.572</td>\n",
       "      <td>211.096358</td>\n",
       "      <td>8.106</td>\n",
       "    </tr>\n",
       "    <tr>\n",
       "      <th>1</th>\n",
       "      <td>1</td>\n",
       "      <td>2010-02-12</td>\n",
       "      <td>1641957.44</td>\n",
       "      <td>1</td>\n",
       "      <td>38.51</td>\n",
       "      <td>2.548</td>\n",
       "      <td>211.242170</td>\n",
       "      <td>8.106</td>\n",
       "    </tr>\n",
       "    <tr>\n",
       "      <th>2</th>\n",
       "      <td>1</td>\n",
       "      <td>2010-02-19</td>\n",
       "      <td>1611968.17</td>\n",
       "      <td>0</td>\n",
       "      <td>39.93</td>\n",
       "      <td>2.514</td>\n",
       "      <td>211.289143</td>\n",
       "      <td>8.106</td>\n",
       "    </tr>\n",
       "    <tr>\n",
       "      <th>3</th>\n",
       "      <td>1</td>\n",
       "      <td>2010-02-26</td>\n",
       "      <td>1409727.59</td>\n",
       "      <td>0</td>\n",
       "      <td>46.63</td>\n",
       "      <td>2.561</td>\n",
       "      <td>211.319643</td>\n",
       "      <td>8.106</td>\n",
       "    </tr>\n",
       "    <tr>\n",
       "      <th>4</th>\n",
       "      <td>1</td>\n",
       "      <td>2010-03-05</td>\n",
       "      <td>1554806.68</td>\n",
       "      <td>0</td>\n",
       "      <td>46.50</td>\n",
       "      <td>2.625</td>\n",
       "      <td>211.350143</td>\n",
       "      <td>8.106</td>\n",
       "    </tr>\n",
       "    <tr>\n",
       "      <th>...</th>\n",
       "      <td>...</td>\n",
       "      <td>...</td>\n",
       "      <td>...</td>\n",
       "      <td>...</td>\n",
       "      <td>...</td>\n",
       "      <td>...</td>\n",
       "      <td>...</td>\n",
       "      <td>...</td>\n",
       "    </tr>\n",
       "    <tr>\n",
       "      <th>6430</th>\n",
       "      <td>45</td>\n",
       "      <td>2012-09-28</td>\n",
       "      <td>713173.95</td>\n",
       "      <td>0</td>\n",
       "      <td>64.88</td>\n",
       "      <td>3.997</td>\n",
       "      <td>192.013558</td>\n",
       "      <td>8.684</td>\n",
       "    </tr>\n",
       "    <tr>\n",
       "      <th>6431</th>\n",
       "      <td>45</td>\n",
       "      <td>2012-10-05</td>\n",
       "      <td>733455.07</td>\n",
       "      <td>0</td>\n",
       "      <td>64.89</td>\n",
       "      <td>3.985</td>\n",
       "      <td>192.170412</td>\n",
       "      <td>8.667</td>\n",
       "    </tr>\n",
       "    <tr>\n",
       "      <th>6432</th>\n",
       "      <td>45</td>\n",
       "      <td>2012-10-12</td>\n",
       "      <td>734464.36</td>\n",
       "      <td>0</td>\n",
       "      <td>54.47</td>\n",
       "      <td>4.000</td>\n",
       "      <td>192.327265</td>\n",
       "      <td>8.667</td>\n",
       "    </tr>\n",
       "    <tr>\n",
       "      <th>6433</th>\n",
       "      <td>45</td>\n",
       "      <td>2012-10-19</td>\n",
       "      <td>718125.53</td>\n",
       "      <td>0</td>\n",
       "      <td>56.47</td>\n",
       "      <td>3.969</td>\n",
       "      <td>192.330854</td>\n",
       "      <td>8.667</td>\n",
       "    </tr>\n",
       "    <tr>\n",
       "      <th>6434</th>\n",
       "      <td>45</td>\n",
       "      <td>2012-10-26</td>\n",
       "      <td>760281.43</td>\n",
       "      <td>0</td>\n",
       "      <td>58.85</td>\n",
       "      <td>3.882</td>\n",
       "      <td>192.308899</td>\n",
       "      <td>8.667</td>\n",
       "    </tr>\n",
       "  </tbody>\n",
       "</table>\n",
       "<p>6435 rows × 8 columns</p>\n",
       "</div>"
      ],
      "text/plain": [
       "      Store       Date  Weekly_Sales  Holiday_Flag  Temperature  Fuel_Price  \\\n",
       "0         1 2010-02-05    1643690.90             0        42.31       2.572   \n",
       "1         1 2010-02-12    1641957.44             1        38.51       2.548   \n",
       "2         1 2010-02-19    1611968.17             0        39.93       2.514   \n",
       "3         1 2010-02-26    1409727.59             0        46.63       2.561   \n",
       "4         1 2010-03-05    1554806.68             0        46.50       2.625   \n",
       "...     ...        ...           ...           ...          ...         ...   \n",
       "6430     45 2012-09-28     713173.95             0        64.88       3.997   \n",
       "6431     45 2012-10-05     733455.07             0        64.89       3.985   \n",
       "6432     45 2012-10-12     734464.36             0        54.47       4.000   \n",
       "6433     45 2012-10-19     718125.53             0        56.47       3.969   \n",
       "6434     45 2012-10-26     760281.43             0        58.85       3.882   \n",
       "\n",
       "             CPI  Unemployment  \n",
       "0     211.096358         8.106  \n",
       "1     211.242170         8.106  \n",
       "2     211.289143         8.106  \n",
       "3     211.319643         8.106  \n",
       "4     211.350143         8.106  \n",
       "...          ...           ...  \n",
       "6430  192.013558         8.684  \n",
       "6431  192.170412         8.667  \n",
       "6432  192.327265         8.667  \n",
       "6433  192.330854         8.667  \n",
       "6434  192.308899         8.667  \n",
       "\n",
       "[6435 rows x 8 columns]"
      ]
     },
     "execution_count": 2,
     "metadata": {},
     "output_type": "execute_result"
    }
   ],
   "source": [
    "data = pd.read_csv(\"walmart_weekly_sales_data-230301-055303.csv\",parse_dates=[\"Date\"])\n",
    "data"
   ]
  },
  {
   "cell_type": "code",
   "execution_count": 3,
   "id": "e45db532-8dbb-46db-ac46-6965f685a333",
   "metadata": {
    "tags": []
   },
   "outputs": [
    {
     "data": {
      "text/html": [
       "<div>\n",
       "<style scoped>\n",
       "    .dataframe tbody tr th:only-of-type {\n",
       "        vertical-align: middle;\n",
       "    }\n",
       "\n",
       "    .dataframe tbody tr th {\n",
       "        vertical-align: top;\n",
       "    }\n",
       "\n",
       "    .dataframe thead th {\n",
       "        text-align: right;\n",
       "    }\n",
       "</style>\n",
       "<table border=\"1\" class=\"dataframe\">\n",
       "  <thead>\n",
       "    <tr style=\"text-align: right;\">\n",
       "      <th></th>\n",
       "      <th>count</th>\n",
       "      <th>mean</th>\n",
       "      <th>std</th>\n",
       "      <th>min</th>\n",
       "      <th>25%</th>\n",
       "      <th>50%</th>\n",
       "      <th>75%</th>\n",
       "      <th>max</th>\n",
       "    </tr>\n",
       "  </thead>\n",
       "  <tbody>\n",
       "    <tr>\n",
       "      <th>Store</th>\n",
       "      <td>6435.0</td>\n",
       "      <td>2.300000e+01</td>\n",
       "      <td>12.988182</td>\n",
       "      <td>1.000</td>\n",
       "      <td>12.000</td>\n",
       "      <td>23.000000</td>\n",
       "      <td>3.400000e+01</td>\n",
       "      <td>4.500000e+01</td>\n",
       "    </tr>\n",
       "    <tr>\n",
       "      <th>Weekly_Sales</th>\n",
       "      <td>6435.0</td>\n",
       "      <td>1.046965e+06</td>\n",
       "      <td>564366.622054</td>\n",
       "      <td>209986.250</td>\n",
       "      <td>553350.105</td>\n",
       "      <td>960746.040000</td>\n",
       "      <td>1.420159e+06</td>\n",
       "      <td>3.818686e+06</td>\n",
       "    </tr>\n",
       "    <tr>\n",
       "      <th>Holiday_Flag</th>\n",
       "      <td>6435.0</td>\n",
       "      <td>6.993007e-02</td>\n",
       "      <td>0.255049</td>\n",
       "      <td>0.000</td>\n",
       "      <td>0.000</td>\n",
       "      <td>0.000000</td>\n",
       "      <td>0.000000e+00</td>\n",
       "      <td>1.000000e+00</td>\n",
       "    </tr>\n",
       "    <tr>\n",
       "      <th>Temperature</th>\n",
       "      <td>6435.0</td>\n",
       "      <td>6.066378e+01</td>\n",
       "      <td>18.444933</td>\n",
       "      <td>-2.060</td>\n",
       "      <td>47.460</td>\n",
       "      <td>62.670000</td>\n",
       "      <td>7.494000e+01</td>\n",
       "      <td>1.001400e+02</td>\n",
       "    </tr>\n",
       "    <tr>\n",
       "      <th>Fuel_Price</th>\n",
       "      <td>6435.0</td>\n",
       "      <td>3.358607e+00</td>\n",
       "      <td>0.459020</td>\n",
       "      <td>2.472</td>\n",
       "      <td>2.933</td>\n",
       "      <td>3.445000</td>\n",
       "      <td>3.735000e+00</td>\n",
       "      <td>4.468000e+00</td>\n",
       "    </tr>\n",
       "    <tr>\n",
       "      <th>CPI</th>\n",
       "      <td>6435.0</td>\n",
       "      <td>1.715784e+02</td>\n",
       "      <td>39.356712</td>\n",
       "      <td>126.064</td>\n",
       "      <td>131.735</td>\n",
       "      <td>182.616521</td>\n",
       "      <td>2.127433e+02</td>\n",
       "      <td>2.272328e+02</td>\n",
       "    </tr>\n",
       "    <tr>\n",
       "      <th>Unemployment</th>\n",
       "      <td>6435.0</td>\n",
       "      <td>7.999151e+00</td>\n",
       "      <td>1.875885</td>\n",
       "      <td>3.879</td>\n",
       "      <td>6.891</td>\n",
       "      <td>7.874000</td>\n",
       "      <td>8.622000e+00</td>\n",
       "      <td>1.431300e+01</td>\n",
       "    </tr>\n",
       "  </tbody>\n",
       "</table>\n",
       "</div>"
      ],
      "text/plain": [
       "               count          mean            std         min         25%  \\\n",
       "Store         6435.0  2.300000e+01      12.988182       1.000      12.000   \n",
       "Weekly_Sales  6435.0  1.046965e+06  564366.622054  209986.250  553350.105   \n",
       "Holiday_Flag  6435.0  6.993007e-02       0.255049       0.000       0.000   \n",
       "Temperature   6435.0  6.066378e+01      18.444933      -2.060      47.460   \n",
       "Fuel_Price    6435.0  3.358607e+00       0.459020       2.472       2.933   \n",
       "CPI           6435.0  1.715784e+02      39.356712     126.064     131.735   \n",
       "Unemployment  6435.0  7.999151e+00       1.875885       3.879       6.891   \n",
       "\n",
       "                        50%           75%           max  \n",
       "Store             23.000000  3.400000e+01  4.500000e+01  \n",
       "Weekly_Sales  960746.040000  1.420159e+06  3.818686e+06  \n",
       "Holiday_Flag       0.000000  0.000000e+00  1.000000e+00  \n",
       "Temperature       62.670000  7.494000e+01  1.001400e+02  \n",
       "Fuel_Price         3.445000  3.735000e+00  4.468000e+00  \n",
       "CPI              182.616521  2.127433e+02  2.272328e+02  \n",
       "Unemployment       7.874000  8.622000e+00  1.431300e+01  "
      ]
     },
     "execution_count": 3,
     "metadata": {},
     "output_type": "execute_result"
    }
   ],
   "source": [
    "# Descriptive Statistics of Data\n",
    "data.describe().T"
   ]
  },
  {
   "cell_type": "code",
   "execution_count": 4,
   "id": "9836a4d6-4c08-4ac1-ac53-71704cd456f5",
   "metadata": {
    "tags": []
   },
   "outputs": [
    {
     "name": "stdout",
     "output_type": "stream",
     "text": [
      "<class 'pandas.core.frame.DataFrame'>\n",
      "RangeIndex: 6435 entries, 0 to 6434\n",
      "Data columns (total 8 columns):\n",
      " #   Column        Non-Null Count  Dtype         \n",
      "---  ------        --------------  -----         \n",
      " 0   Store         6435 non-null   int64         \n",
      " 1   Date          6435 non-null   datetime64[ns]\n",
      " 2   Weekly_Sales  6435 non-null   float64       \n",
      " 3   Holiday_Flag  6435 non-null   int64         \n",
      " 4   Temperature   6435 non-null   float64       \n",
      " 5   Fuel_Price    6435 non-null   float64       \n",
      " 6   CPI           6435 non-null   float64       \n",
      " 7   Unemployment  6435 non-null   float64       \n",
      "dtypes: datetime64[ns](1), float64(5), int64(2)\n",
      "memory usage: 402.3 KB\n"
     ]
    }
   ],
   "source": [
    "# View Information About Dataset\n",
    "data.info()"
   ]
  },
  {
   "cell_type": "markdown",
   "id": "ce7366b7-0903-4ff2-bdfd-dc61d687b103",
   "metadata": {},
   "source": [
    "### Observation\n",
    "- There exist No Null Values in the dataset"
   ]
  },
  {
   "cell_type": "markdown",
   "id": "37241e41-6f52-4ec7-906b-96dd740e9dfe",
   "metadata": {},
   "source": [
    "### Visualize the data distribution of Some Columns"
   ]
  },
  {
   "cell_type": "code",
   "execution_count": 5,
   "id": "f0c10ec1-f21c-4242-98dc-74c2ba7868f3",
   "metadata": {
    "tags": []
   },
   "outputs": [
    {
     "data": {
      "text/plain": [
       "<Axes: >"
      ]
     },
     "execution_count": 5,
     "metadata": {},
     "output_type": "execute_result"
    },
    {
     "data": {
      "image/png": "[encoded data removed]",
      "text/plain": [
       "<Figure size 640x480 with 1 Axes>"
      ]
     },
     "metadata": {},
     "output_type": "display_data"
    }
   ],
   "source": [
    "data[\"Weekly_Sales\"].hist()"
   ]
  },
  {
   "cell_type": "markdown",
   "id": "5938d00b-9d7d-4604-bfe4-72a2e51fe0ba",
   "metadata": {
    "tags": []
   },
   "source": [
    "- The Weekly Sales does not follow normal distribution"
   ]
  },
  {
   "cell_type": "markdown",
   "id": "ac437e7d-2456-4498-9bfd-9eb6a2332580",
   "metadata": {},
   "source": [
    "## Check for Outliers in the dataset"
   ]
  },
  {
   "cell_type": "code",
   "execution_count": 7,
   "id": "e7aeb222-54cc-4d5e-bdbd-049a16c5aeee",
   "metadata": {
    "tags": []
   },
   "outputs": [
    {
     "data": {
      "image/png": "[encoded data removed]",
      "text/plain": [
       "<Figure size 640x480 with 1 Axes>"
      ]
     },
     "metadata": {},
     "output_type": "display_data"
    }
   ],
   "source": [
    "# Plot Box plots on Columns\n",
    "columns_to_plot = ['Weekly_Sales','Temperature','Fuel_Price','Unemployment']\n",
    "sns.boxplot(data=data[columns_to_plot])\n",
    "# Set labels and title\n",
    "plt.title(\"Box Plots for Numeric Columns\")\n",
    "plt.xlabel(\"Columns\")\n",
    "plt.ylabel(\"Values\")\n",
    "\n",
    "# Display the plot\n",
    "plt.show()"
   ]
  },
  {
   "cell_type": "markdown",
   "id": "01d21494-92a0-4973-81ac-7f8fbf78eeea",
   "metadata": {},
   "source": [
    "# Question 1\n",
    "## Store With Highest Sales Per Week"
   ]
  },
  {
   "cell_type": "code",
   "execution_count": 8,
   "id": "a6ccc19b-dd70-4772-b0d9-f28d647c7b7a",
   "metadata": {
    "tags": []
   },
   "outputs": [
    {
     "data": {
      "text/plain": [
       "Store                            14\n",
       "Date            2010-12-24 00:00:00\n",
       "Weekly_Sales             3818686.45\n",
       "Holiday_Flag                      0\n",
       "Temperature                   30.59\n",
       "Fuel_Price                    3.141\n",
       "CPI                       182.54459\n",
       "Unemployment                  8.724\n",
       "Name: 1905, dtype: object"
      ]
     },
     "execution_count": 8,
     "metadata": {},
     "output_type": "execute_result"
    }
   ],
   "source": [
    "highest_sales_store = data['Weekly_Sales'].idxmax()\n",
    "data.iloc[highest_sales_store]"
   ]
  },
  {
   "cell_type": "markdown",
   "id": "b42adf26-df1d-4947-b658-f49fe48d7a49",
   "metadata": {},
   "source": [
    "- The store with the Highest Weekly Sales is Store 14 with a Sales of 3818686.45\n",
    "- From the summary data, the store wasn't a Holiday week\n",
    "- The Week was in the month of December with a date of 2010-12-24"
   ]
  },
  {
   "cell_type": "markdown",
   "id": "43418b3b-a5ac-46dc-8989-7f6a68c736ce",
   "metadata": {},
   "source": [
    "# Question 2\n",
    "## New Sales Increase"
   ]
  },
  {
   "cell_type": "code",
   "execution_count": 9,
   "id": "0f6e1148-22db-4a16-bf81-d24e850b5673",
   "metadata": {
    "tags": []
   },
   "outputs": [
    {
     "data": {
      "text/html": [
       "<div>\n",
       "<style scoped>\n",
       "    .dataframe tbody tr th:only-of-type {\n",
       "        vertical-align: middle;\n",
       "    }\n",
       "\n",
       "    .dataframe tbody tr th {\n",
       "        vertical-align: top;\n",
       "    }\n",
       "\n",
       "    .dataframe thead th {\n",
       "        text-align: right;\n",
       "    }\n",
       "</style>\n",
       "<table border=\"1\" class=\"dataframe\">\n",
       "  <thead>\n",
       "    <tr style=\"text-align: right;\">\n",
       "      <th></th>\n",
       "      <th>Store</th>\n",
       "      <th>Date</th>\n",
       "      <th>Weekly_Sales</th>\n",
       "      <th>Holiday_Flag</th>\n",
       "      <th>Temperature</th>\n",
       "      <th>Fuel_Price</th>\n",
       "      <th>CPI</th>\n",
       "      <th>Unemployment</th>\n",
       "      <th>New_Weekly_Sales</th>\n",
       "    </tr>\n",
       "  </thead>\n",
       "  <tbody>\n",
       "    <tr>\n",
       "      <th>0</th>\n",
       "      <td>1</td>\n",
       "      <td>2010-02-05</td>\n",
       "      <td>1643690.90</td>\n",
       "      <td>0</td>\n",
       "      <td>42.31</td>\n",
       "      <td>2.572</td>\n",
       "      <td>211.096358</td>\n",
       "      <td>8.106</td>\n",
       "      <td>1.758749e+06</td>\n",
       "    </tr>\n",
       "    <tr>\n",
       "      <th>1</th>\n",
       "      <td>1</td>\n",
       "      <td>2010-02-12</td>\n",
       "      <td>1641957.44</td>\n",
       "      <td>1</td>\n",
       "      <td>38.51</td>\n",
       "      <td>2.548</td>\n",
       "      <td>211.242170</td>\n",
       "      <td>8.106</td>\n",
       "      <td>1.756894e+06</td>\n",
       "    </tr>\n",
       "    <tr>\n",
       "      <th>2</th>\n",
       "      <td>1</td>\n",
       "      <td>2010-02-19</td>\n",
       "      <td>1611968.17</td>\n",
       "      <td>0</td>\n",
       "      <td>39.93</td>\n",
       "      <td>2.514</td>\n",
       "      <td>211.289143</td>\n",
       "      <td>8.106</td>\n",
       "      <td>1.724806e+06</td>\n",
       "    </tr>\n",
       "    <tr>\n",
       "      <th>3</th>\n",
       "      <td>1</td>\n",
       "      <td>2010-02-26</td>\n",
       "      <td>1409727.59</td>\n",
       "      <td>0</td>\n",
       "      <td>46.63</td>\n",
       "      <td>2.561</td>\n",
       "      <td>211.319643</td>\n",
       "      <td>8.106</td>\n",
       "      <td>1.508409e+06</td>\n",
       "    </tr>\n",
       "    <tr>\n",
       "      <th>4</th>\n",
       "      <td>1</td>\n",
       "      <td>2010-03-05</td>\n",
       "      <td>1554806.68</td>\n",
       "      <td>0</td>\n",
       "      <td>46.50</td>\n",
       "      <td>2.625</td>\n",
       "      <td>211.350143</td>\n",
       "      <td>8.106</td>\n",
       "      <td>1.663643e+06</td>\n",
       "    </tr>\n",
       "  </tbody>\n",
       "</table>\n",
       "</div>"
      ],
      "text/plain": [
       "   Store       Date  Weekly_Sales  Holiday_Flag  Temperature  Fuel_Price  \\\n",
       "0      1 2010-02-05    1643690.90             0        42.31       2.572   \n",
       "1      1 2010-02-12    1641957.44             1        38.51       2.548   \n",
       "2      1 2010-02-19    1611968.17             0        39.93       2.514   \n",
       "3      1 2010-02-26    1409727.59             0        46.63       2.561   \n",
       "4      1 2010-03-05    1554806.68             0        46.50       2.625   \n",
       "\n",
       "          CPI  Unemployment  New_Weekly_Sales  \n",
       "0  211.096358         8.106      1.758749e+06  \n",
       "1  211.242170         8.106      1.756894e+06  \n",
       "2  211.289143         8.106      1.724806e+06  \n",
       "3  211.319643         8.106      1.508409e+06  \n",
       "4  211.350143         8.106      1.663643e+06  "
      ]
     },
     "execution_count": 9,
     "metadata": {},
     "output_type": "execute_result"
    }
   ],
   "source": [
    "# Add 7% increament to the weekly sales and assigns it a new column\n",
    "data['New_Weekly_Sales'] = data['Weekly_Sales'] * 0.07 + data['Weekly_Sales']\n",
    "data.head()"
   ]
  },
  {
   "cell_type": "markdown",
   "id": "48812022-c1ca-4142-b8bf-5c9bbacad2b4",
   "metadata": {},
   "source": [
    "- The New_Weekly_Sales Column represents the 7% increament in Weekly Sales"
   ]
  },
  {
   "cell_type": "markdown",
   "id": "e835a661-e984-49e6-bcf0-0e74c6f923ca",
   "metadata": {},
   "source": [
    "# Question 3\n",
    "## Profit Per Store"
   ]
  },
  {
   "cell_type": "code",
   "execution_count": 10,
   "id": "7f260555-df7d-4ea6-b7d7-3bd94e95ec3b",
   "metadata": {
    "tags": []
   },
   "outputs": [],
   "source": [
    "# Profit Column creation\n",
    "weekly_sales = data['Weekly_Sales']\n",
    "labour_cost = 0.26* data['Weekly_Sales']\n",
    "product_cost = 0.30 * data['Weekly_Sales']\n",
    "maintenance_cost = 0.125 * data['Weekly_Sales']\n",
    "data['Profit'] = weekly_sales - (labour_cost+product_cost+maintenance_cost)\n"
   ]
  },
  {
   "cell_type": "code",
   "execution_count": 11,
   "id": "af5d270e-9b98-4d79-a06c-17b2b9e7951b",
   "metadata": {
    "tags": []
   },
   "outputs": [
    {
     "data": {
      "text/html": [
       "<div>\n",
       "<style scoped>\n",
       "    .dataframe tbody tr th:only-of-type {\n",
       "        vertical-align: middle;\n",
       "    }\n",
       "\n",
       "    .dataframe tbody tr th {\n",
       "        vertical-align: top;\n",
       "    }\n",
       "\n",
       "    .dataframe thead th {\n",
       "        text-align: right;\n",
       "    }\n",
       "</style>\n",
       "<table border=\"1\" class=\"dataframe\">\n",
       "  <thead>\n",
       "    <tr style=\"text-align: right;\">\n",
       "      <th></th>\n",
       "      <th>Store</th>\n",
       "      <th>Date</th>\n",
       "      <th>Weekly_Sales</th>\n",
       "      <th>Holiday_Flag</th>\n",
       "      <th>Temperature</th>\n",
       "      <th>Fuel_Price</th>\n",
       "      <th>CPI</th>\n",
       "      <th>Unemployment</th>\n",
       "      <th>New_Weekly_Sales</th>\n",
       "      <th>Profit</th>\n",
       "    </tr>\n",
       "  </thead>\n",
       "  <tbody>\n",
       "    <tr>\n",
       "      <th>0</th>\n",
       "      <td>1</td>\n",
       "      <td>2010-02-05</td>\n",
       "      <td>1643690.90</td>\n",
       "      <td>0</td>\n",
       "      <td>42.31</td>\n",
       "      <td>2.572</td>\n",
       "      <td>211.096358</td>\n",
       "      <td>8.106</td>\n",
       "      <td>1.758749e+06</td>\n",
       "      <td>517762.63350</td>\n",
       "    </tr>\n",
       "    <tr>\n",
       "      <th>1</th>\n",
       "      <td>1</td>\n",
       "      <td>2010-02-12</td>\n",
       "      <td>1641957.44</td>\n",
       "      <td>1</td>\n",
       "      <td>38.51</td>\n",
       "      <td>2.548</td>\n",
       "      <td>211.242170</td>\n",
       "      <td>8.106</td>\n",
       "      <td>1.756894e+06</td>\n",
       "      <td>517216.59360</td>\n",
       "    </tr>\n",
       "    <tr>\n",
       "      <th>2</th>\n",
       "      <td>1</td>\n",
       "      <td>2010-02-19</td>\n",
       "      <td>1611968.17</td>\n",
       "      <td>0</td>\n",
       "      <td>39.93</td>\n",
       "      <td>2.514</td>\n",
       "      <td>211.289143</td>\n",
       "      <td>8.106</td>\n",
       "      <td>1.724806e+06</td>\n",
       "      <td>507769.97355</td>\n",
       "    </tr>\n",
       "    <tr>\n",
       "      <th>3</th>\n",
       "      <td>1</td>\n",
       "      <td>2010-02-26</td>\n",
       "      <td>1409727.59</td>\n",
       "      <td>0</td>\n",
       "      <td>46.63</td>\n",
       "      <td>2.561</td>\n",
       "      <td>211.319643</td>\n",
       "      <td>8.106</td>\n",
       "      <td>1.508409e+06</td>\n",
       "      <td>444064.19085</td>\n",
       "    </tr>\n",
       "    <tr>\n",
       "      <th>4</th>\n",
       "      <td>1</td>\n",
       "      <td>2010-03-05</td>\n",
       "      <td>1554806.68</td>\n",
       "      <td>0</td>\n",
       "      <td>46.50</td>\n",
       "      <td>2.625</td>\n",
       "      <td>211.350143</td>\n",
       "      <td>8.106</td>\n",
       "      <td>1.663643e+06</td>\n",
       "      <td>489764.10420</td>\n",
       "    </tr>\n",
       "  </tbody>\n",
       "</table>\n",
       "</div>"
      ],
      "text/plain": [
       "   Store       Date  Weekly_Sales  Holiday_Flag  Temperature  Fuel_Price  \\\n",
       "0      1 2010-02-05    1643690.90             0        42.31       2.572   \n",
       "1      1 2010-02-12    1641957.44             1        38.51       2.548   \n",
       "2      1 2010-02-19    1611968.17             0        39.93       2.514   \n",
       "3      1 2010-02-26    1409727.59             0        46.63       2.561   \n",
       "4      1 2010-03-05    1554806.68             0        46.50       2.625   \n",
       "\n",
       "          CPI  Unemployment  New_Weekly_Sales        Profit  \n",
       "0  211.096358         8.106      1.758749e+06  517762.63350  \n",
       "1  211.242170         8.106      1.756894e+06  517216.59360  \n",
       "2  211.289143         8.106      1.724806e+06  507769.97355  \n",
       "3  211.319643         8.106      1.508409e+06  444064.19085  \n",
       "4  211.350143         8.106      1.663643e+06  489764.10420  "
      ]
     },
     "execution_count": 11,
     "metadata": {},
     "output_type": "execute_result"
    }
   ],
   "source": [
    "# new DataFrame with Profit Column\n",
    "data.head()"
   ]
  },
  {
   "cell_type": "markdown",
   "id": "5fef55d5-623c-4b26-87ef-15c7b29df8c8",
   "metadata": {},
   "source": [
    "## Question 3\n",
    "### Temperature Conversion\n"
   ]
  },
  {
   "cell_type": "code",
   "execution_count": 12,
   "id": "f752fc87-ad79-4f53-bb80-b8592e287947",
   "metadata": {
    "tags": []
   },
   "outputs": [],
   "source": [
    "# Convert Temperature From Fahrenheit to Degree Celcius \n",
    "data[\"Temperature(Celcius)\"] = (data[\"Temperature\"] - 32)*0.5556  "
   ]
  },
  {
   "cell_type": "code",
   "execution_count": 13,
   "id": "d86f2588-056a-4020-9782-0cc9e8d77bcc",
   "metadata": {
    "tags": []
   },
   "outputs": [
    {
     "data": {
      "text/html": [
       "<div>\n",
       "<style scoped>\n",
       "    .dataframe tbody tr th:only-of-type {\n",
       "        vertical-align: middle;\n",
       "    }\n",
       "\n",
       "    .dataframe tbody tr th {\n",
       "        vertical-align: top;\n",
       "    }\n",
       "\n",
       "    .dataframe thead th {\n",
       "        text-align: right;\n",
       "    }\n",
       "</style>\n",
       "<table border=\"1\" class=\"dataframe\">\n",
       "  <thead>\n",
       "    <tr style=\"text-align: right;\">\n",
       "      <th></th>\n",
       "      <th>Store</th>\n",
       "      <th>Date</th>\n",
       "      <th>Weekly_Sales</th>\n",
       "      <th>Holiday_Flag</th>\n",
       "      <th>Temperature</th>\n",
       "      <th>Fuel_Price</th>\n",
       "      <th>CPI</th>\n",
       "      <th>Unemployment</th>\n",
       "      <th>New_Weekly_Sales</th>\n",
       "      <th>Profit</th>\n",
       "      <th>Temperature(Celcius)</th>\n",
       "    </tr>\n",
       "  </thead>\n",
       "  <tbody>\n",
       "    <tr>\n",
       "      <th>0</th>\n",
       "      <td>1</td>\n",
       "      <td>2010-02-05</td>\n",
       "      <td>1643690.90</td>\n",
       "      <td>0</td>\n",
       "      <td>42.31</td>\n",
       "      <td>2.572</td>\n",
       "      <td>211.096358</td>\n",
       "      <td>8.106</td>\n",
       "      <td>1.758749e+06</td>\n",
       "      <td>517762.63350</td>\n",
       "      <td>5.728236</td>\n",
       "    </tr>\n",
       "    <tr>\n",
       "      <th>1</th>\n",
       "      <td>1</td>\n",
       "      <td>2010-02-12</td>\n",
       "      <td>1641957.44</td>\n",
       "      <td>1</td>\n",
       "      <td>38.51</td>\n",
       "      <td>2.548</td>\n",
       "      <td>211.242170</td>\n",
       "      <td>8.106</td>\n",
       "      <td>1.756894e+06</td>\n",
       "      <td>517216.59360</td>\n",
       "      <td>3.616956</td>\n",
       "    </tr>\n",
       "    <tr>\n",
       "      <th>2</th>\n",
       "      <td>1</td>\n",
       "      <td>2010-02-19</td>\n",
       "      <td>1611968.17</td>\n",
       "      <td>0</td>\n",
       "      <td>39.93</td>\n",
       "      <td>2.514</td>\n",
       "      <td>211.289143</td>\n",
       "      <td>8.106</td>\n",
       "      <td>1.724806e+06</td>\n",
       "      <td>507769.97355</td>\n",
       "      <td>4.405908</td>\n",
       "    </tr>\n",
       "    <tr>\n",
       "      <th>3</th>\n",
       "      <td>1</td>\n",
       "      <td>2010-02-26</td>\n",
       "      <td>1409727.59</td>\n",
       "      <td>0</td>\n",
       "      <td>46.63</td>\n",
       "      <td>2.561</td>\n",
       "      <td>211.319643</td>\n",
       "      <td>8.106</td>\n",
       "      <td>1.508409e+06</td>\n",
       "      <td>444064.19085</td>\n",
       "      <td>8.128428</td>\n",
       "    </tr>\n",
       "    <tr>\n",
       "      <th>4</th>\n",
       "      <td>1</td>\n",
       "      <td>2010-03-05</td>\n",
       "      <td>1554806.68</td>\n",
       "      <td>0</td>\n",
       "      <td>46.50</td>\n",
       "      <td>2.625</td>\n",
       "      <td>211.350143</td>\n",
       "      <td>8.106</td>\n",
       "      <td>1.663643e+06</td>\n",
       "      <td>489764.10420</td>\n",
       "      <td>8.056200</td>\n",
       "    </tr>\n",
       "  </tbody>\n",
       "</table>\n",
       "</div>"
      ],
      "text/plain": [
       "   Store       Date  Weekly_Sales  Holiday_Flag  Temperature  Fuel_Price  \\\n",
       "0      1 2010-02-05    1643690.90             0        42.31       2.572   \n",
       "1      1 2010-02-12    1641957.44             1        38.51       2.548   \n",
       "2      1 2010-02-19    1611968.17             0        39.93       2.514   \n",
       "3      1 2010-02-26    1409727.59             0        46.63       2.561   \n",
       "4      1 2010-03-05    1554806.68             0        46.50       2.625   \n",
       "\n",
       "          CPI  Unemployment  New_Weekly_Sales        Profit  \\\n",
       "0  211.096358         8.106      1.758749e+06  517762.63350   \n",
       "1  211.242170         8.106      1.756894e+06  517216.59360   \n",
       "2  211.289143         8.106      1.724806e+06  507769.97355   \n",
       "3  211.319643         8.106      1.508409e+06  444064.19085   \n",
       "4  211.350143         8.106      1.663643e+06  489764.10420   \n",
       "\n",
       "   Temperature(Celcius)  \n",
       "0              5.728236  \n",
       "1              3.616956  \n",
       "2              4.405908  \n",
       "3              8.128428  \n",
       "4              8.056200  "
      ]
     },
     "execution_count": 13,
     "metadata": {},
     "output_type": "execute_result"
    }
   ],
   "source": [
    "# Preview first 5 rows\n",
    "data.head()"
   ]
  },
  {
   "cell_type": "markdown",
   "id": "bdba6401-20ce-4850-a0b2-77aeab504a10",
   "metadata": {},
   "source": [
    "### Store With Coldest Temperature"
   ]
  },
  {
   "cell_type": "code",
   "execution_count": 14,
   "id": "3a87752b-ebb0-4622-8744-2bf23c793ed4",
   "metadata": {
    "tags": []
   },
   "outputs": [
    {
     "data": {
      "text/plain": [
       "Store                                     7\n",
       "Date                    2011-02-04 00:00:00\n",
       "Weekly_Sales                      558027.77\n",
       "Holiday_Flag                              0\n",
       "Temperature                           -2.06\n",
       "Fuel_Price                            3.011\n",
       "CPI                              191.762589\n",
       "Unemployment                          8.818\n",
       "New_Weekly_Sales                597089.7139\n",
       "Profit                         175778.74755\n",
       "Temperature(Celcius)             -18.923736\n",
       "Name: 910, dtype: object"
      ]
     },
     "execution_count": 14,
     "metadata": {},
     "output_type": "execute_result"
    }
   ],
   "source": [
    "lowest_temp_store = data['Temperature'].idxmin()\n",
    "data.iloc[lowest_temp_store]"
   ]
  },
  {
   "cell_type": "markdown",
   "id": "5224123f-6782-4670-b680-e58bbe1b2f50",
   "metadata": {},
   "source": [
    "- From the Summary data above\n",
    "- Store 7 has the lowest temperature\n",
    "- The temperature is -2.06F and -18.923736C "
   ]
  },
  {
   "cell_type": "markdown",
   "id": "c47023e6-7c5f-4c7a-8c10-e78387538baf",
   "metadata": {},
   "source": [
    "### Store With Highest Temperature\n"
   ]
  },
  {
   "cell_type": "code",
   "execution_count": 15,
   "id": "0a777c77-6035-4b38-bc29-74544ed2a26f",
   "metadata": {
    "tags": []
   },
   "outputs": [
    {
     "data": {
      "text/plain": [
       "Store                                    33\n",
       "Date                    2010-07-16 00:00:00\n",
       "Weekly_Sales                      280937.84\n",
       "Holiday_Flag                              0\n",
       "Temperature                          100.14\n",
       "Fuel_Price                            2.971\n",
       "CPI                              126.149806\n",
       "Unemployment                          9.495\n",
       "New_Weekly_Sales                300603.4888\n",
       "Profit                           88495.4196\n",
       "Temperature(Celcius)              37.858584\n",
       "Name: 4599, dtype: object"
      ]
     },
     "execution_count": 15,
     "metadata": {},
     "output_type": "execute_result"
    }
   ],
   "source": [
    "highest_temp_store = data['Temperature'].idxmax()\n",
    "data.iloc[highest_temp_store]"
   ]
  },
  {
   "cell_type": "markdown",
   "id": "f9e4552b-fdaa-48e5-8784-ae126815af1f",
   "metadata": {},
   "source": [
    "- From the Summary data above\n",
    "- Store 33 has the highest temperature\n",
    "- The temperature is 100.14F and 37.858584C "
   ]
  },
  {
   "cell_type": "markdown",
   "id": "85d35e7a-a07b-430c-bd86-2efa734ce6fa",
   "metadata": {},
   "source": [
    "## Question 4\n",
    "### Effect of Temperature On Weekly Sales Per Store"
   ]
  },
  {
   "cell_type": "code",
   "execution_count": 16,
   "id": "8ec224eb-be5c-4a13-a0bd-3cb33a8febeb",
   "metadata": {
    "tags": []
   },
   "outputs": [
    {
     "data": {
      "image/png": "[encoded data removed]",
      "text/plain": [
       "<Figure size 640x480 with 1 Axes>"
      ]
     },
     "metadata": {},
     "output_type": "display_data"
    }
   ],
   "source": [
    "plt.scatter(x= data[\"Temperature(Celcius)\"],y=data[\"Weekly_Sales\"])\n",
    "sns.regplot(x=data[\"Temperature(Celcius)\"], y=data[\"Weekly_Sales\"], scatter=False, color=\"red\")\n",
    "plt.title(\"Relationship Between Temperature and Weekly Sales On Stores\")\n",
    "plt.xlabel(\"Temperature(Celcius)\")\n",
    "plt.ylabel(\"Weekly Sales\")\n",
    "# Show the plot\n",
    "plt.show()"
   ]
  },
  {
   "cell_type": "markdown",
   "id": "5d683a70-8f06-4af8-850c-8dd77e75c958",
   "metadata": {},
   "source": [
    "- There exist a negative linear relationship between Temperature and Weekly Sales\n",
    "- Stores With Lower Temperatures Tend To have Higher Weekly Sales"
   ]
  },
  {
   "cell_type": "markdown",
   "id": "8db06533-469d-4149-a309-0080bd822bbc",
   "metadata": {},
   "source": [
    "## Question 5\n",
    "### Store With the Highest Weekly Sales in 2012"
   ]
  },
  {
   "cell_type": "code",
   "execution_count": 17,
   "id": "e6c83b73-54b1-41f1-a366-a0a4e58e6271",
   "metadata": {
    "tags": []
   },
   "outputs": [
    {
     "name": "stdout",
     "output_type": "stream",
     "text": [
      "The Store with highest sales in 2012 is:\n",
      "Store                                    20\n",
      "Date                    2012-04-06 00:00:00\n",
      "Weekly_Sales                     2565259.92\n",
      "Holiday_Flag                              0\n",
      "Temperature                           50.06\n",
      "Fuel_Price                            3.996\n",
      "CPI                              214.238705\n",
      "Unemployment                          7.139\n",
      "New_Weekly_Sales               2744828.1144\n",
      "Profit                          808056.8748\n",
      "Temperature(Celcius)              10.034136\n",
      "Name: 2830, dtype: object\n"
     ]
    }
   ],
   "source": [
    "sales_2012 = data[data[\"Date\"].dt.year == 2012]\n",
    "highest_sales_index = sales_2012[\"Weekly_Sales\"].idxmax()\n",
    "store_with_highest_sales = data.loc[highest_sales_index]\n",
    "print(\"The Store with highest sales in 2012 is:\")\n",
    "print(store_with_highest_sales)"
   ]
  },
  {
   "cell_type": "markdown",
   "id": "f55f5ac5-d038-4282-b012-5829321a07cb",
   "metadata": {},
   "source": [
    "- Store 20 has the highest Weekly Sales in 2012 with a Sales of $2565259.92"
   ]
  },
  {
   "cell_type": "markdown",
   "id": "2bea074e-a66a-490e-960f-c0cdebca4897",
   "metadata": {},
   "source": [
    "## Question 6\n",
    "### Effect Of Fuel Prices on Weekly Sales"
   ]
  },
  {
   "cell_type": "code",
   "execution_count": 18,
   "id": "5cc0743f-10a1-447d-9d3c-667b2534b0b0",
   "metadata": {
    "tags": []
   },
   "outputs": [
    {
     "data": {
      "text/html": [
       "<div>\n",
       "<style scoped>\n",
       "    .dataframe tbody tr th:only-of-type {\n",
       "        vertical-align: middle;\n",
       "    }\n",
       "\n",
       "    .dataframe tbody tr th {\n",
       "        vertical-align: top;\n",
       "    }\n",
       "\n",
       "    .dataframe thead th {\n",
       "        text-align: right;\n",
       "    }\n",
       "</style>\n",
       "<table border=\"1\" class=\"dataframe\">\n",
       "  <thead>\n",
       "    <tr style=\"text-align: right;\">\n",
       "      <th></th>\n",
       "      <th>Store</th>\n",
       "      <th>Date</th>\n",
       "      <th>Weekly_Sales</th>\n",
       "      <th>Holiday_Flag</th>\n",
       "      <th>Temperature</th>\n",
       "      <th>Fuel_Price</th>\n",
       "      <th>CPI</th>\n",
       "      <th>Unemployment</th>\n",
       "      <th>New_Weekly_Sales</th>\n",
       "      <th>Profit</th>\n",
       "      <th>Temperature(Celcius)</th>\n",
       "    </tr>\n",
       "  </thead>\n",
       "  <tbody>\n",
       "    <tr>\n",
       "      <th>60</th>\n",
       "      <td>1</td>\n",
       "      <td>2011-04-01</td>\n",
       "      <td>1495064.75</td>\n",
       "      <td>0</td>\n",
       "      <td>59.17</td>\n",
       "      <td>3.524</td>\n",
       "      <td>214.837166</td>\n",
       "      <td>7.682</td>\n",
       "      <td>1.599719e+06</td>\n",
       "      <td>470945.39625</td>\n",
       "      <td>15.095652</td>\n",
       "    </tr>\n",
       "    <tr>\n",
       "      <th>61</th>\n",
       "      <td>1</td>\n",
       "      <td>2011-04-08</td>\n",
       "      <td>1614259.35</td>\n",
       "      <td>0</td>\n",
       "      <td>67.84</td>\n",
       "      <td>3.622</td>\n",
       "      <td>215.074394</td>\n",
       "      <td>7.682</td>\n",
       "      <td>1.727258e+06</td>\n",
       "      <td>508491.69525</td>\n",
       "      <td>19.912704</td>\n",
       "    </tr>\n",
       "    <tr>\n",
       "      <th>62</th>\n",
       "      <td>1</td>\n",
       "      <td>2011-04-15</td>\n",
       "      <td>1559889.00</td>\n",
       "      <td>0</td>\n",
       "      <td>71.27</td>\n",
       "      <td>3.743</td>\n",
       "      <td>215.291856</td>\n",
       "      <td>7.682</td>\n",
       "      <td>1.669081e+06</td>\n",
       "      <td>491365.03500</td>\n",
       "      <td>21.818412</td>\n",
       "    </tr>\n",
       "    <tr>\n",
       "      <th>63</th>\n",
       "      <td>1</td>\n",
       "      <td>2011-04-22</td>\n",
       "      <td>1564819.81</td>\n",
       "      <td>0</td>\n",
       "      <td>72.99</td>\n",
       "      <td>3.807</td>\n",
       "      <td>215.459905</td>\n",
       "      <td>7.682</td>\n",
       "      <td>1.674357e+06</td>\n",
       "      <td>492918.24015</td>\n",
       "      <td>22.774044</td>\n",
       "    </tr>\n",
       "    <tr>\n",
       "      <th>64</th>\n",
       "      <td>1</td>\n",
       "      <td>2011-04-29</td>\n",
       "      <td>1455090.69</td>\n",
       "      <td>0</td>\n",
       "      <td>72.03</td>\n",
       "      <td>3.810</td>\n",
       "      <td>215.627954</td>\n",
       "      <td>7.682</td>\n",
       "      <td>1.556947e+06</td>\n",
       "      <td>458353.56735</td>\n",
       "      <td>22.240668</td>\n",
       "    </tr>\n",
       "    <tr>\n",
       "      <th>...</th>\n",
       "      <td>...</td>\n",
       "      <td>...</td>\n",
       "      <td>...</td>\n",
       "      <td>...</td>\n",
       "      <td>...</td>\n",
       "      <td>...</td>\n",
       "      <td>...</td>\n",
       "      <td>...</td>\n",
       "      <td>...</td>\n",
       "      <td>...</td>\n",
       "      <td>...</td>\n",
       "    </tr>\n",
       "    <tr>\n",
       "      <th>5858</th>\n",
       "      <td>41</td>\n",
       "      <td>2012-09-28</td>\n",
       "      <td>1307928.01</td>\n",
       "      <td>0</td>\n",
       "      <td>56.08</td>\n",
       "      <td>3.789</td>\n",
       "      <td>198.590328</td>\n",
       "      <td>6.432</td>\n",
       "      <td>1.399483e+06</td>\n",
       "      <td>411997.32315</td>\n",
       "      <td>13.378848</td>\n",
       "    </tr>\n",
       "    <tr>\n",
       "      <th>5859</th>\n",
       "      <td>41</td>\n",
       "      <td>2012-10-05</td>\n",
       "      <td>1400160.95</td>\n",
       "      <td>0</td>\n",
       "      <td>50.14</td>\n",
       "      <td>3.779</td>\n",
       "      <td>198.822132</td>\n",
       "      <td>6.195</td>\n",
       "      <td>1.498172e+06</td>\n",
       "      <td>441050.69925</td>\n",
       "      <td>10.078584</td>\n",
       "    </tr>\n",
       "    <tr>\n",
       "      <th>5860</th>\n",
       "      <td>41</td>\n",
       "      <td>2012-10-12</td>\n",
       "      <td>1409544.97</td>\n",
       "      <td>0</td>\n",
       "      <td>39.38</td>\n",
       "      <td>3.760</td>\n",
       "      <td>199.053937</td>\n",
       "      <td>6.195</td>\n",
       "      <td>1.508213e+06</td>\n",
       "      <td>444006.66555</td>\n",
       "      <td>4.100328</td>\n",
       "    </tr>\n",
       "    <tr>\n",
       "      <th>5861</th>\n",
       "      <td>41</td>\n",
       "      <td>2012-10-19</td>\n",
       "      <td>1326197.24</td>\n",
       "      <td>0</td>\n",
       "      <td>49.56</td>\n",
       "      <td>3.750</td>\n",
       "      <td>199.148196</td>\n",
       "      <td>6.195</td>\n",
       "      <td>1.419031e+06</td>\n",
       "      <td>417752.13060</td>\n",
       "      <td>9.756336</td>\n",
       "    </tr>\n",
       "    <tr>\n",
       "      <th>5862</th>\n",
       "      <td>41</td>\n",
       "      <td>2012-10-26</td>\n",
       "      <td>1316542.59</td>\n",
       "      <td>0</td>\n",
       "      <td>41.80</td>\n",
       "      <td>3.686</td>\n",
       "      <td>199.219532</td>\n",
       "      <td>6.195</td>\n",
       "      <td>1.408701e+06</td>\n",
       "      <td>414710.91585</td>\n",
       "      <td>5.444880</td>\n",
       "    </tr>\n",
       "  </tbody>\n",
       "</table>\n",
       "<p>1411 rows × 11 columns</p>\n",
       "</div>"
      ],
      "text/plain": [
       "      Store       Date  Weekly_Sales  Holiday_Flag  Temperature  Fuel_Price  \\\n",
       "60        1 2011-04-01    1495064.75             0        59.17       3.524   \n",
       "61        1 2011-04-08    1614259.35             0        67.84       3.622   \n",
       "62        1 2011-04-15    1559889.00             0        71.27       3.743   \n",
       "63        1 2011-04-22    1564819.81             0        72.99       3.807   \n",
       "64        1 2011-04-29    1455090.69             0        72.03       3.810   \n",
       "...     ...        ...           ...           ...          ...         ...   \n",
       "5858     41 2012-09-28    1307928.01             0        56.08       3.789   \n",
       "5859     41 2012-10-05    1400160.95             0        50.14       3.779   \n",
       "5860     41 2012-10-12    1409544.97             0        39.38       3.760   \n",
       "5861     41 2012-10-19    1326197.24             0        49.56       3.750   \n",
       "5862     41 2012-10-26    1316542.59             0        41.80       3.686   \n",
       "\n",
       "             CPI  Unemployment  New_Weekly_Sales        Profit  \\\n",
       "60    214.837166         7.682      1.599719e+06  470945.39625   \n",
       "61    215.074394         7.682      1.727258e+06  508491.69525   \n",
       "62    215.291856         7.682      1.669081e+06  491365.03500   \n",
       "63    215.459905         7.682      1.674357e+06  492918.24015   \n",
       "64    215.627954         7.682      1.556947e+06  458353.56735   \n",
       "...          ...           ...               ...           ...   \n",
       "5858  198.590328         6.432      1.399483e+06  411997.32315   \n",
       "5859  198.822132         6.195      1.498172e+06  441050.69925   \n",
       "5860  199.053937         6.195      1.508213e+06  444006.66555   \n",
       "5861  199.148196         6.195      1.419031e+06  417752.13060   \n",
       "5862  199.219532         6.195      1.408701e+06  414710.91585   \n",
       "\n",
       "      Temperature(Celcius)  \n",
       "60               15.095652  \n",
       "61               19.912704  \n",
       "62               21.818412  \n",
       "63               22.774044  \n",
       "64               22.240668  \n",
       "...                    ...  \n",
       "5858             13.378848  \n",
       "5859             10.078584  \n",
       "5860              4.100328  \n",
       "5861              9.756336  \n",
       "5862              5.444880  \n",
       "\n",
       "[1411 rows x 11 columns]"
      ]
     },
     "execution_count": 18,
     "metadata": {},
     "output_type": "execute_result"
    }
   ],
   "source": [
    "# Filter stores with fuel prices greater than $3.50 dollars and  weekly sales greater than $1,000,000\n",
    "higher_fuel_and_sales = data[(data[\"Fuel_Price\"] > 3.50) & (data[\"Weekly_Sales\"] > 1000000)]\n",
    "higher_fuel_and_sales"
   ]
  },
  {
   "cell_type": "markdown",
   "id": "20c75ef4-cb52-41b1-a294-f540b51bb571",
   "metadata": {},
   "source": [
    "- There exist 1411 number of stores with Weekly Sales of over one million dollars "
   ]
  },
  {
   "cell_type": "markdown",
   "id": "2681872c-cd36-4dfb-9943-9089ee032cab",
   "metadata": {},
   "source": [
    "## Question 7\n",
    "### Sales Made in Christmas Week Per Store in 2012"
   ]
  },
  {
   "cell_type": "code",
   "execution_count": 19,
   "id": "6b0ca6c4-bb56-4cc5-bed2-90f00876e91b",
   "metadata": {
    "tags": []
   },
   "outputs": [
    {
     "data": {
      "text/html": [
       "<div>\n",
       "<style scoped>\n",
       "    .dataframe tbody tr th:only-of-type {\n",
       "        vertical-align: middle;\n",
       "    }\n",
       "\n",
       "    .dataframe tbody tr th {\n",
       "        vertical-align: top;\n",
       "    }\n",
       "\n",
       "    .dataframe thead th {\n",
       "        text-align: right;\n",
       "    }\n",
       "</style>\n",
       "<table border=\"1\" class=\"dataframe\">\n",
       "  <thead>\n",
       "    <tr style=\"text-align: right;\">\n",
       "      <th></th>\n",
       "      <th>Weekly_Sales</th>\n",
       "    </tr>\n",
       "    <tr>\n",
       "      <th>Store</th>\n",
       "      <th></th>\n",
       "    </tr>\n",
       "  </thead>\n",
       "  <tbody>\n",
       "    <tr>\n",
       "      <th>1</th>\n",
       "      <td>1493659.74</td>\n",
       "    </tr>\n",
       "    <tr>\n",
       "      <th>2</th>\n",
       "      <td>1834458.35</td>\n",
       "    </tr>\n",
       "    <tr>\n",
       "      <th>3</th>\n",
       "      <td>405432.70</td>\n",
       "    </tr>\n",
       "    <tr>\n",
       "      <th>4</th>\n",
       "      <td>2149594.46</td>\n",
       "    </tr>\n",
       "    <tr>\n",
       "      <th>5</th>\n",
       "      <td>319550.77</td>\n",
       "    </tr>\n",
       "  </tbody>\n",
       "</table>\n",
       "</div>"
      ],
      "text/plain": [
       "       Weekly_Sales\n",
       "Store              \n",
       "1        1493659.74\n",
       "2        1834458.35\n",
       "3         405432.70\n",
       "4        2149594.46\n",
       "5         319550.77"
      ]
     },
     "execution_count": 19,
     "metadata": {},
     "output_type": "execute_result"
    }
   ],
   "source": [
    "# Pivot Table to display First Five Weekly Sales Made By Stores in Christmas Week\n",
    "Christmas_sales_2012 = data[data[\"Date\"] == \"2012-10-26\"]\n",
    "pivot_table_result = pd.pivot_table(Christmas_sales_2012,values=\"Weekly_Sales\", index=\"Store\",aggfunc=\"sum\")\n",
    "pivot_table_result.head()"
   ]
  },
  {
   "cell_type": "markdown",
   "id": "312e99ff-2dfa-4c57-910c-96b51bbd38ae",
   "metadata": {},
   "source": [
    "## Question 8\n",
    "### How many weeks Had Holidays in 2011"
   ]
  },
  {
   "cell_type": "code",
   "execution_count": 20,
   "id": "f6221966-a5a3-49d5-b69e-06d6e8767c9e",
   "metadata": {
    "tags": []
   },
   "outputs": [
    {
     "name": "stdout",
     "output_type": "stream",
     "text": [
      "There were 4 weeks in which holidays occured in 2011\n"
     ]
    }
   ],
   "source": [
    "hoildays_2011 = data[(data[\"Date\"].dt.year == 2011) & (data[\"Holiday_Flag\"]==1)]\n",
    "# Extract unique weeks from the 'Date' column\n",
    "unique_weeks = hoildays_2011['Date'].dt.strftime('%m-%d').unique()\n",
    "print(f\"There were {len(unique_weeks)} weeks in which holidays occured in 2011\")"
   ]
  },
  {
   "cell_type": "markdown",
   "id": "2029eefa-3815-4d52-b161-504c48b9c582",
   "metadata": {},
   "source": [
    "- The 2011 Holiday weeks were '02-11', '09-09', '11-25', '12-30'"
   ]
  },
  {
   "cell_type": "markdown",
   "id": "7853ec1a-df7a-47b5-a3b8-9bee64c58a82",
   "metadata": {},
   "source": [
    "## Question 9 \n",
    "### Highest Unemployment Rate Week in 2012"
   ]
  },
  {
   "cell_type": "code",
   "execution_count": 21,
   "id": "b6c8157f-2597-4980-bf3d-d198b456503f",
   "metadata": {
    "tags": []
   },
   "outputs": [
    {
     "data": {
      "text/plain": [
       "Store                                    12\n",
       "Date                    2012-01-06 00:00:00\n",
       "Weekly_Sales                      945823.65\n",
       "Holiday_Flag                              0\n",
       "Temperature                           50.43\n",
       "Fuel_Price                            3.599\n",
       "CPI                              130.157516\n",
       "Unemployment                         12.187\n",
       "New_Weekly_Sales               1012031.3055\n",
       "Profit                         297934.44975\n",
       "Temperature(Celcius)              10.239708\n",
       "Name: 1673, dtype: object"
      ]
     },
     "execution_count": 21,
     "metadata": {},
     "output_type": "execute_result"
    }
   ],
   "source": [
    "year_2012 = data[data[\"Date\"].dt.year == 2012]\n",
    "highest_unemployment = year_2012[\"Unemployment\"].idxmax()\n",
    "data.loc[highest_unemployment]"
   ]
  },
  {
   "cell_type": "markdown",
   "id": "18dade68-d71d-4be7-b41e-2e508b2c1065",
   "metadata": {},
   "source": [
    "## Question 10\n",
    "### Most Profitable Year in Walmart"
   ]
  },
  {
   "cell_type": "code",
   "execution_count": 22,
   "id": "47480c23-9323-4db3-b50c-f86f8dd3a551",
   "metadata": {
    "tags": []
   },
   "outputs": [
    {
     "data": {
      "text/html": [
       "<div>\n",
       "<style scoped>\n",
       "    .dataframe tbody tr th:only-of-type {\n",
       "        vertical-align: middle;\n",
       "    }\n",
       "\n",
       "    .dataframe tbody tr th {\n",
       "        vertical-align: top;\n",
       "    }\n",
       "\n",
       "    .dataframe thead th {\n",
       "        text-align: right;\n",
       "    }\n",
       "</style>\n",
       "<table border=\"1\" class=\"dataframe\">\n",
       "  <thead>\n",
       "    <tr style=\"text-align: right;\">\n",
       "      <th></th>\n",
       "      <th>Date</th>\n",
       "      <th>Profit</th>\n",
       "    </tr>\n",
       "  </thead>\n",
       "  <tbody>\n",
       "    <tr>\n",
       "      <th>0</th>\n",
       "      <td>2011</td>\n",
       "      <td>7.711830e+08</td>\n",
       "    </tr>\n",
       "    <tr>\n",
       "      <th>1</th>\n",
       "      <td>2010</td>\n",
       "      <td>7.209991e+08</td>\n",
       "    </tr>\n",
       "    <tr>\n",
       "      <th>2</th>\n",
       "      <td>2012</td>\n",
       "      <td>6.300419e+08</td>\n",
       "    </tr>\n",
       "  </tbody>\n",
       "</table>\n",
       "</div>"
      ],
      "text/plain": [
       "   Date        Profit\n",
       "0  2011  7.711830e+08\n",
       "1  2010  7.209991e+08\n",
       "2  2012  6.300419e+08"
      ]
     },
     "execution_count": 22,
     "metadata": {},
     "output_type": "execute_result"
    }
   ],
   "source": [
    "year = data[\"Date\"].dt.year\n",
    "profit_by_year = data.groupby(year)[\"Profit\"].sum().sort_values(ascending=False).head()\n",
    "profit_df = profit_by_year.reset_index()\n",
    "profit_df"
   ]
  },
  {
   "cell_type": "markdown",
   "id": "64d41bf0-4909-41e5-b824-5a97b7604e34",
   "metadata": {},
   "source": [
    "## Visualize Profit By Year"
   ]
  },
  {
   "cell_type": "code",
   "execution_count": 23,
   "id": "dcae4207-2b25-43fd-b782-ee5f1490efd2",
   "metadata": {
    "tags": []
   },
   "outputs": [
    {
     "data": {
      "text/plain": [
       "Text(0, 0.5, 'Profit($)')"
      ]
     },
     "execution_count": 23,
     "metadata": {},
     "output_type": "execute_result"
    },
    {
     "data": {
      "image/png": "[encoded data removed]",
      "text/plain": [
       "<Figure size 640x480 with 1 Axes>"
      ]
     },
     "metadata": {},
     "output_type": "display_data"
    }
   ],
   "source": [
    "\n",
    "sns.barplot(data = profit_df,x=\"Date\",y=\"Profit\")\n",
    "plt.title(\"Sales Profit By Year\")\n",
    "plt.xlabel(\"Year\")\n",
    "plt.ylabel(\"Profit($)\")"
   ]
  }
 ],
 "metadata": {
  "kernelspec": {
   "display_name": "Python 3 (ipykernel)",
   "language": "python",
   "name": "python3"
  },
  "language_info": {
   "codemirror_mode": {
    "name": "ipython",
    "version": 3
   },
   "file_extension": ".py",
   "mimetype": "text/x-python",
   "name": "python",
   "nbconvert_exporter": "python",
   "pygments_lexer": "ipython3",
   "version": "3.11.4"
  }
 },
 "nbformat": 4,
 "nbformat_minor": 5
}
